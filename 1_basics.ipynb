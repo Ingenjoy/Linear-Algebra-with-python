{
  "nbformat": 4,
  "nbformat_minor": 0,
  "metadata": {
    "anaconda-cloud": {},
    "kernelspec": {
      "display_name": "Python 3",
      "language": "python",
      "name": "python3"
    },
    "language_info": {
      "codemirror_mode": {
        "name": "ipython",
        "version": 3
      },
      "file_extension": ".py",
      "mimetype": "text/x-python",
      "name": "python",
      "nbconvert_exporter": "python",
      "pygments_lexer": "ipython3",
      "version": "3.6.1"
    },
    "colab": {
      "name": "1_basics.ipynb",
      "provenance": [],
      "include_colab_link": true
    }
  },
  "cells": [
    {
      "cell_type": "markdown",
      "metadata": {
        "id": "view-in-github",
        "colab_type": "text"
      },
      "source": [
        "<a href=\"https://colab.research.google.com/github/Ingenjoy/Linear-Algebra-with-python/blob/master/1_basics.ipynb\" target=\"_parent\"><img src=\"https://colab.research.google.com/assets/colab-badge.svg\" alt=\"Open In Colab\"/></a>"
      ]
    },
    {
      "cell_type": "code",
      "metadata": {
        "collapsed": true,
        "id": "sCVizlLcDgYd"
      },
      "source": [
        "import numpy as np"
      ],
      "execution_count": 1,
      "outputs": []
    },
    {
      "cell_type": "code",
      "metadata": {
        "id": "6uKqHsibDgYg",
        "outputId": "05324662-81a4-4b86-f4e8-97ba32b87f02",
        "colab": {
          "base_uri": "https://localhost:8080/"
        }
      },
      "source": [
        "# column vector\n",
        "c = np.array([1,2,3])\n",
        "print(c.shape)\n",
        "\n",
        "# obtaining a particular entry\n",
        "print (c[0])"
      ],
      "execution_count": 2,
      "outputs": [
        {
          "output_type": "stream",
          "text": [
            "(3,)\n",
            "1\n"
          ],
          "name": "stdout"
        }
      ]
    },
    {
      "cell_type": "code",
      "metadata": {
        "id": "SJZIVzH4DgYh",
        "outputId": "bd5c6ec0-fad5-4985-9504-368f61d722b1",
        "colab": {
          "base_uri": "https://localhost:8080/"
        }
      },
      "source": [
        "# row vector\n",
        "r = np.array([ [1,2,3] ])\n",
        "print (r.shape)"
      ],
      "execution_count": 3,
      "outputs": [
        {
          "output_type": "stream",
          "text": [
            "(1, 3)\n"
          ],
          "name": "stdout"
        }
      ]
    },
    {
      "cell_type": "code",
      "metadata": {
        "id": "dRrv4FuKDgYi",
        "outputId": "3ae72292-03c4-4e17-e8c8-cbdd1f2fcf32",
        "colab": {
          "base_uri": "https://localhost:8080/"
        }
      },
      "source": [
        "# obtaining a particular entry\n",
        "print (r[0,1])"
      ],
      "execution_count": 4,
      "outputs": [
        {
          "output_type": "stream",
          "text": [
            "2\n"
          ],
          "name": "stdout"
        }
      ]
    },
    {
      "cell_type": "code",
      "metadata": {
        "id": "a2C2oBNiDgYi",
        "outputId": "237b35b0-88bb-448a-80a4-91a37ab4851e",
        "colab": {
          "base_uri": "https://localhost:8080/"
        }
      },
      "source": [
        "# creating a matrix with all zeros\n",
        "a = np.zeros((2,2))\n",
        "print (a)\n",
        "# creating a matrix with all ones\n",
        "b = np.ones((2,2))\n",
        "print (b)\n",
        "             \n",
        "# creating a matrix filled with the same constant\n",
        "c = np.full((2,2), 7)\n",
        "print (c)\n",
        "             \n",
        "# creating a matrix with random values\n",
        "d = np.random.random((2,2))\n",
        "print (d)"
      ],
      "execution_count": 5,
      "outputs": [
        {
          "output_type": "stream",
          "text": [
            "[[0. 0.]\n",
            " [0. 0.]]\n",
            "[[1. 1.]\n",
            " [1. 1.]]\n",
            "[[7 7]\n",
            " [7 7]]\n",
            "[[0.56654405 0.90238272]\n",
            " [0.84075577 0.71598331]]\n"
          ],
          "name": "stdout"
        }
      ]
    },
    {
      "cell_type": "code",
      "metadata": {
        "scrolled": true,
        "id": "QKFWpt2zDgYj",
        "outputId": "e3ff430d-a1fb-4c39-d767-71592d4d42fe",
        "colab": {
          "base_uri": "https://localhost:8080/"
        }
      },
      "source": [
        "# creating a matrix\n",
        "A=np.array([[1,2],[3,4],[5,6]])\n",
        "print (A)\n"
      ],
      "execution_count": 6,
      "outputs": [
        {
          "output_type": "stream",
          "text": [
            "[[1 2]\n",
            " [3 4]\n",
            " [5 6]]\n"
          ],
          "name": "stdout"
        }
      ]
    },
    {
      "cell_type": "code",
      "metadata": {
        "id": "H1j8M1RADgYj",
        "outputId": "f354e691-b8ec-4ff6-dc61-e0472d4d865b",
        "colab": {
          "base_uri": "https://localhost:8080/"
        }
      },
      "source": [
        "# creating another matrix\n",
        "B=np.array([[11,12,13,14],[15,16,17,18]])\n",
        "B"
      ],
      "execution_count": 7,
      "outputs": [
        {
          "output_type": "execute_result",
          "data": {
            "text/plain": [
              "array([[11, 12, 13, 14],\n",
              "       [15, 16, 17, 18]])"
            ]
          },
          "metadata": {
            "tags": []
          },
          "execution_count": 7
        }
      ]
    },
    {
      "cell_type": "code",
      "metadata": {
        "id": "tDKwQbTADgYk",
        "outputId": "482dc25f-0296-4bac-80de-7648a1199b30",
        "colab": {
          "base_uri": "https://localhost:8080/"
        }
      },
      "source": [
        "# transpose a matrix\n",
        "A.T"
      ],
      "execution_count": 8,
      "outputs": [
        {
          "output_type": "execute_result",
          "data": {
            "text/plain": [
              "array([[1, 3, 5],\n",
              "       [2, 4, 6]])"
            ]
          },
          "metadata": {
            "tags": []
          },
          "execution_count": 8
        }
      ]
    },
    {
      "cell_type": "code",
      "metadata": {
        "scrolled": true,
        "id": "BG1ZKQtYDgYk",
        "outputId": "92dbf584-c1c8-403d-9016-1d3e0ae5ad37",
        "colab": {
          "base_uri": "https://localhost:8080/"
        }
      },
      "source": [
        "# matrix-matrix multiplication\n",
        "np.dot(A,B)"
      ],
      "execution_count": 9,
      "outputs": [
        {
          "output_type": "execute_result",
          "data": {
            "text/plain": [
              "array([[ 41,  44,  47,  50],\n",
              "       [ 93, 100, 107, 114],\n",
              "       [145, 156, 167, 178]])"
            ]
          },
          "metadata": {
            "tags": []
          },
          "execution_count": 9
        }
      ]
    },
    {
      "cell_type": "code",
      "metadata": {
        "id": "YiMWw4YqDgYl",
        "outputId": "83af1525-2558-4171-c99f-6fdfc0c76263",
        "colab": {
          "base_uri": "https://localhost:8080/",
          "height": 232
        }
      },
      "source": [
        "# matrix-matrix multiplication \n",
        "# size should match!\n",
        "np.dot(B,A)"
      ],
      "execution_count": 10,
      "outputs": [
        {
          "output_type": "error",
          "ename": "ValueError",
          "evalue": "ignored",
          "traceback": [
            "\u001b[0;31m---------------------------------------------------------------------------\u001b[0m",
            "\u001b[0;31mValueError\u001b[0m                                Traceback (most recent call last)",
            "\u001b[0;32m<ipython-input-10-a332615a59fb>\u001b[0m in \u001b[0;36m<module>\u001b[0;34m()\u001b[0m\n\u001b[1;32m      1\u001b[0m \u001b[0;31m# matrix-matrix multiplication\u001b[0m\u001b[0;34m\u001b[0m\u001b[0;34m\u001b[0m\u001b[0;34m\u001b[0m\u001b[0m\n\u001b[1;32m      2\u001b[0m \u001b[0;31m# size should match!\u001b[0m\u001b[0;34m\u001b[0m\u001b[0;34m\u001b[0m\u001b[0;34m\u001b[0m\u001b[0m\n\u001b[0;32m----> 3\u001b[0;31m \u001b[0mnp\u001b[0m\u001b[0;34m.\u001b[0m\u001b[0mdot\u001b[0m\u001b[0;34m(\u001b[0m\u001b[0mB\u001b[0m\u001b[0;34m,\u001b[0m\u001b[0mA\u001b[0m\u001b[0;34m)\u001b[0m\u001b[0;34m\u001b[0m\u001b[0;34m\u001b[0m\u001b[0m\n\u001b[0m",
            "\u001b[0;32m<__array_function__ internals>\u001b[0m in \u001b[0;36mdot\u001b[0;34m(*args, **kwargs)\u001b[0m\n",
            "\u001b[0;31mValueError\u001b[0m: shapes (2,4) and (3,2) not aligned: 4 (dim 1) != 3 (dim 0)"
          ]
        }
      ]
    },
    {
      "cell_type": "code",
      "metadata": {
        "collapsed": true,
        "id": "Z3IuHhM-DgYl"
      },
      "source": [
        "# coefficient matrix A and a vector b\n",
        "A=np.array([[60, 5.5, 1],[65, 5.0, 0],[55, 6.0, 1]])\n",
        "b=np.array([66, 70, 78])"
      ],
      "execution_count": 11,
      "outputs": []
    },
    {
      "cell_type": "code",
      "metadata": {
        "id": "9qHscXz-DgYm",
        "outputId": "8281b0b0-3630-4f8b-d56d-019d485367b4",
        "colab": {
          "base_uri": "https://localhost:8080/"
        }
      },
      "source": [
        "# identity matrix \n",
        "eye3 = np.eye(3)\n",
        "eye3"
      ],
      "execution_count": 12,
      "outputs": [
        {
          "output_type": "execute_result",
          "data": {
            "text/plain": [
              "array([[1., 0., 0.],\n",
              "       [0., 1., 0.],\n",
              "       [0., 0., 1.]])"
            ]
          },
          "metadata": {
            "tags": []
          },
          "execution_count": 12
        }
      ]
    },
    {
      "cell_type": "code",
      "metadata": {
        "id": "BI78SeeSDgYm",
        "outputId": "5ec5c674-e070-46ef-c6a4-64fc6c97a66c",
        "colab": {
          "base_uri": "https://localhost:8080/"
        }
      },
      "source": [
        "# computing an inverse\n",
        "from numpy.linalg import inv\n",
        "A_inv = inv(A)\n",
        "A_inv"
      ],
      "execution_count": 13,
      "outputs": [
        {
          "output_type": "execute_result",
          "data": {
            "text/plain": [
              "array([[ 0.08695652,  0.00869565, -0.08695652],\n",
              "       [-1.13043478,  0.08695652,  1.13043478],\n",
              "       [ 2.        , -1.        , -1.        ]])"
            ]
          },
          "metadata": {
            "tags": []
          },
          "execution_count": 13
        }
      ]
    },
    {
      "cell_type": "code",
      "metadata": {
        "id": "BXONGsJEDgYn",
        "outputId": "a40a9600-8492-4e16-ff33-ced4ff34b849",
        "colab": {
          "base_uri": "https://localhost:8080/"
        }
      },
      "source": [
        "# wrong matrix multiplication\n",
        "A*A_inv"
      ],
      "execution_count": 14,
      "outputs": [
        {
          "output_type": "execute_result",
          "data": {
            "text/plain": [
              "array([[ 5.21739130e+00,  4.78260870e-02, -8.69565217e-02],\n",
              "       [-7.34782609e+01,  4.34782609e-01,  0.00000000e+00],\n",
              "       [ 1.10000000e+02, -6.00000000e+00, -1.00000000e+00]])"
            ]
          },
          "metadata": {
            "tags": []
          },
          "execution_count": 14
        }
      ]
    },
    {
      "cell_type": "code",
      "metadata": {
        "id": "MY6aU2uwDgYn",
        "outputId": "36927cca-80a8-41c8-cf28-249cfe69e81f",
        "colab": {
          "base_uri": "https://localhost:8080/"
        }
      },
      "source": [
        "# correct matrix multiplication\n",
        "A.dot(A_inv)"
      ],
      "execution_count": 15,
      "outputs": [
        {
          "output_type": "execute_result",
          "data": {
            "text/plain": [
              "array([[ 1.0000000e+00,  0.0000000e+00, -4.4408921e-16],\n",
              "       [ 8.8817842e-16,  1.0000000e+00, -8.8817842e-16],\n",
              "       [-8.8817842e-16,  0.0000000e+00,  1.0000000e+00]])"
            ]
          },
          "metadata": {
            "tags": []
          },
          "execution_count": 15
        }
      ]
    },
    {
      "cell_type": "code",
      "metadata": {
        "id": "Xwo-bQ_zDgYo",
        "outputId": "1b17d9f7-78f1-4ab5-c5b2-4c22bf964dd6",
        "colab": {
          "base_uri": "https://localhost:8080/"
        }
      },
      "source": [
        "# solution of a linear system\n",
        "x=A_inv.dot(b)\n",
        "x"
      ],
      "execution_count": 16,
      "outputs": [
        {
          "output_type": "execute_result",
          "data": {
            "text/plain": [
              "array([ -0.43478261,  19.65217391, -16.        ])"
            ]
          },
          "metadata": {
            "tags": []
          },
          "execution_count": 16
        }
      ]
    },
    {
      "cell_type": "code",
      "metadata": {
        "id": "urcZuGs1DgYq",
        "outputId": "a4407285-dd08-4cf0-b02c-00c6e45eba60",
        "colab": {
          "base_uri": "https://localhost:8080/"
        }
      },
      "source": [
        "# a better way to solve the same linear system\n",
        "from numpy.linalg import solve\n",
        "x = solve(A,b)\n",
        "x"
      ],
      "execution_count": 17,
      "outputs": [
        {
          "output_type": "execute_result",
          "data": {
            "text/plain": [
              "array([ -0.43478261,  19.65217391, -16.        ])"
            ]
          },
          "metadata": {
            "tags": []
          },
          "execution_count": 17
        }
      ]
    },
    {
      "cell_type": "code",
      "metadata": {
        "collapsed": true,
        "id": "ABwK_AQUDgYr"
      },
      "source": [
        ""
      ],
      "execution_count": null,
      "outputs": []
    }
  ]
}